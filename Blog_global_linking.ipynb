{
 "cells": [
  {
   "cell_type": "markdown",
   "id": "3aea6274",
   "metadata": {},
   "source": [
    "## Load required Python libraries\n",
    "The code will require loading the following well-known Python libaries: pandas, numpy and statsmodels"
   ]
  },
  {
   "cell_type": "code",
   "execution_count": null,
   "id": "bbedeb2b",
   "metadata": {},
   "outputs": [],
   "source": [
    "## Load libraries \n",
    "import pandas as pd\n",
    "import numpy as np \n",
    "import statsmodels.api as sm"
   ]
  },
  {
   "cell_type": "markdown",
   "id": "524941e3",
   "metadata": {},
   "source": [
    "## Load input data\n",
    "\n",
    "We start by loading the input dataset containing mock average price data and other relevant country-level information. "
   ]
  },
  {
   "cell_type": "code",
   "execution_count": null,
   "id": "35b6257a",
   "metadata": {},
   "outputs": [],
   "source": [
    "#Load price data\n",
    "data=\"price_data.csv\"\n",
    "prices=pd.read_csv(data) \n",
    "prices # Show full dataset "
   ]
  },
  {
   "cell_type": "code",
   "execution_count": null,
   "id": "09be18eb",
   "metadata": {},
   "outputs": [],
   "source": [
    "#Load ppp data\n",
    "datappp=\"ppp_reg.csv\"\n",
    "ppp_reg=pd.read_csv(datappp) \n",
    "ppp_reg # Show full dataset "
   ]
  },
  {
   "cell_type": "code",
   "execution_count": null,
   "id": "b15c95c9",
   "metadata": {},
   "outputs": [],
   "source": [
    "## Select the base or numeraire currency\n",
    "numeraire = 'C' \n",
    "numeraire_c = 'country11' "
   ]
  },
  {
   "cell_type": "code",
   "execution_count": null,
   "id": "0a54900d",
   "metadata": {
    "scrolled": true
   },
   "outputs": [],
   "source": [
    "## Prep\n",
    "## Drop country-item observations without a price\n",
    "prices = prices[prices['price'].notnull()]\n",
    "\n",
    "## Dataframe with country prices\n",
    "d_region=pd.get_dummies(prices['region'])\n",
    "\n",
    "## Prepare design matrix for CPD-W\n",
    "d_region=pd.get_dummies(prices['region'])\n",
    "d_region.drop(numeraire, axis=1, inplace=True) #drop numeraire\n",
    "d_region = d_region.add_prefix('r_') #add prefix to countries\n",
    "d_item=pd.get_dummies(prices['item'],drop_first=False) #include all item dummies\n",
    "d_item = d_item.add_prefix('i_') #add prefix to items\n",
    "prices=pd.concat([prices,d_region,d_item],axis=1) # Concatenate the new cols\n",
    "\n",
    "## Create empty arrays to store results\n",
    "l_coef= [] # to store exp(beta_hats)\n",
    "l_bh= [] # to store bh labels\n",
    "\n",
    "prices"
   ]
  },
  {
   "cell_type": "markdown",
   "id": "5206d7ac",
   "metadata": {},
   "source": [
    "###  Run the CPD-W on each basic heading and store results"
   ]
  },
  {
   "cell_type": "code",
   "execution_count": null,
   "id": "eca1310a",
   "metadata": {},
   "outputs": [],
   "source": [
    "for bh in prices.bh.unique():\n",
    "    tempdf=prices[prices.bh == bh] \n",
    "    X=tempdf.loc[:, [x for x in tempdf.columns if x.startswith(('r_', 'i_'))]]\n",
    "    y = np.log(tempdf['price']/tempdf['ppp_reg']) \n",
    "    wts=tempdf['imp']\n",
    "\n",
    "    wts_cpd=sm.WLS(y, X,weights=wts)\n",
    "    res=wts_cpd.fit()\n",
    "    res_eparams=np.exp(res.params)\n",
    "    \n",
    "    print(\"\\n\",\"Basic Heading:\", bh, \"\\n\")\n",
    "    print('Exponentiated Parameters:',\"\\n\",\n",
    "          res_eparams)\n",
    "    \n",
    "    l_coef.append(res_eparams)\n",
    "    l_bh.append(bh)\n",
    "\n",
    "coef = np.array(l_coef, dtype=float)\n",
    "coef = np.round(coef,4) # round to 4 decimals\n",
    "cols = list(X)\n",
    " #store column heads of X as a list\n",
    "coef[coef == 1] = np.nan #%% replace PPPs that were exp(0)=1 with 'np.nan'\n",
    "\n",
    "#ppp=np.array(ppp_reg.ppp_reg, dtype=float)"
   ]
  },
  {
   "cell_type": "markdown",
   "id": "5fb6095f",
   "metadata": {},
   "source": [
    "###  Gather and display the estimated LFs "
   ]
  },
  {
   "cell_type": "code",
   "execution_count": null,
   "id": "f3130d15",
   "metadata": {},
   "outputs": [],
   "source": [
    "#Create dataframe of PPP results from numpy arrays\n",
    "#dimension = \"# BHs\" x \"# coef\"\n",
    "df_bhppp=pd.DataFrame(data = coef, index = l_bh, columns = cols)\n",
    "r_numeraire=f\"r_{numeraire}\"\n",
    "df_bhppp.insert(0, r_numeraire, 1.000) #insert column of 1s for numeraire\n",
    "\n",
    "df_bhppp=df_bhppp.loc[:, [x for x in df_bhppp.columns if x.startswith(('r_'))]] #subsetting to store only country level PPPs\n",
    "df_bhppp.columns = df_bhppp.columns.str.replace('^r_', '') \n",
    "\n",
    "df_bhppp['bh'] = df_bhppp.index\n",
    "\n",
    "df_bhppp=df_bhppp.melt(id_vars=\"bh\",var_name=\"region\", value_name=\"lf\")\n",
    "df_bhppp\n",
    "\n"
   ]
  },
  {
   "cell_type": "markdown",
   "id": "3d3b6060",
   "metadata": {},
   "source": [
    "### Merging the LF data frame with the PPP reg one"
   ]
  },
  {
   "cell_type": "code",
   "execution_count": null,
   "id": "abc893b1",
   "metadata": {},
   "outputs": [],
   "source": [
    "ppp_regLF=pd.merge(ppp_reg, df_bhppp, how='inner', on=('bh', 'region'))\n",
    "ppp_regLF['ppp_linked']=ppp_regLF['ppp_reg']*ppp_regLF['lf']\n",
    "ppp_regLF = ppp_regLF.drop(['ppp_reg'], axis=1)\n",
    "ppp_regLF=ppp_regLF.pivot(index=\"bh\",\n",
    "              columns=\"country\",\n",
    "              values=\"ppp_linked\").reset_index()\n",
    "\n",
    "\n",
    "ppp_regLF.set_index(ppp_regLF['bh'], drop=True, append=False, inplace=True)\n",
    "ppp_regLF = ppp_regLF.drop(['bh'], axis=1)\n",
    "#Column sorting function\n",
    "def sorting(first_col, df):\n",
    "    columns = df.columns.tolist()\n",
    "    columns.remove(first_col)\n",
    "    columns.insert(0,first_col)\n",
    "    return df.reindex(columns, axis=1)\n",
    "\n",
    "#Sort cols with numeraire as col1\n",
    "ppp_regLF=sorting(numeraire_c,ppp_regLF)\n"
   ]
  },
  {
   "cell_type": "code",
   "execution_count": null,
   "id": "cd69180e",
   "metadata": {},
   "outputs": [],
   "source": [
    "#Load basic heading expenditure values\n",
    "#Should contain bh and countries with prefix c\n",
    "code=\"bhdata_exp.csv\"\n",
    "df_bh=pd.read_csv(code,index_col=\"icp_bh\")\n",
    "df_bh"
   ]
  },
  {
   "cell_type": "code",
   "execution_count": null,
   "id": "ee414b40",
   "metadata": {},
   "outputs": [],
   "source": [
    "#sort rows alphabetically \n",
    "df_bh=df_bh.sort_values('icp_bh')\n",
    "\n",
    "print(\"\\n\",\"Basic Heading Expenditure Values in Local Currency Units\",\"\\n\")\n",
    "print(df_bh, \"\\n\")"
   ]
  },
  {
   "cell_type": "markdown",
   "id": "7e28d590",
   "metadata": {},
   "source": [
    "###  Check the basic heading PPP and basic heading expenditure matrices\n",
    "Before proceeding, it is important to check that both the basic heading PPP and basic heading expenditure matrices have the same dimensions. It is also important to check that the matrix of basic heading PPPs is complete. If the dimensions of the two matrices do not match or the basic heading PPP matrix is incomplete then aggregation at higher aggregate levels is not possible using the formulas employed by the ICP. "
   ]
  },
  {
   "cell_type": "code",
   "execution_count": null,
   "id": "02e360ec",
   "metadata": {},
   "outputs": [],
   "source": [
    "df_bh.columns = df_bh.columns.str.replace('^c_', '') \n",
    "\n",
    "print(\"Dimensions of Matrices (No. of headings x No. of countries):\",\"\\n\")\n",
    "print(\"BH Purchasing Power Parities (PPPs)  = \",ppp_regLF.shape)\n",
    "print(\"BH Nominal Expenditures in LCUs      = \", df_bh.shape)"
   ]
  },
  {
   "cell_type": "markdown",
   "id": "51daa48c",
   "metadata": {},
   "source": [
    "###  Calculate bilateral PPPs (Laspeyres-, Paasche-, and Fisher-type)"
   ]
  },
  {
   "cell_type": "code",
   "execution_count": null,
   "id": "70909bf0",
   "metadata": {},
   "outputs": [],
   "source": [
    "#Calculate Laspeyres bilateral PPPs \n",
    "shape = (len(df_bh.columns),len(df_bh.columns))\n",
    "lp = np.zeros(shape) #square matrix: country x country\n",
    "nrow= len(lp)  # gets the number of rows\n",
    "ncol = len(lp[0]) #get the number of cols\n",
    "\n",
    "for row in range(nrow):\n",
    "    for col in range(ncol):\n",
    "        #weighted means by looping over df rows\n",
    "        lp[row][col]= np.average((ppp_regLF.iloc[:,row]/ppp_regLF.iloc[:,col]),weights=df_bh.iloc[:,col])\n",
    "\n",
    "lp_ppp = lp\n",
    "lp_ppp=pd.DataFrame(data = lp_ppp, index = df_bh.columns, columns = df_bh.columns)\n",
    "lp_ppp = round(lp_ppp,3)"
   ]
  },
  {
   "cell_type": "code",
   "execution_count": null,
   "id": "724f3eec",
   "metadata": {},
   "outputs": [],
   "source": [
    "print(\"\\n\", \"Laspeyres-type bilateral PPPs:\",\"\\n\")\n",
    "print(lp_ppp, \"\\n\")"
   ]
  },
  {
   "cell_type": "code",
   "execution_count": null,
   "id": "b9123a13",
   "metadata": {},
   "outputs": [],
   "source": [
    "#Calculate Paasche bilateral PPPs \n",
    "pa = np.transpose(np.reciprocal(lp))\n",
    "pa_ppp=pd.DataFrame(data = pa, index = df_bh.columns, columns = df_bh.columns)\n",
    "pa_ppp = round(pa_ppp,3)"
   ]
  },
  {
   "cell_type": "code",
   "execution_count": null,
   "id": "35be24da",
   "metadata": {},
   "outputs": [],
   "source": [
    "print(\"\\n\", \"Paasche-type bilateral PPPs:\",\"\\n\")\n",
    "print(pa_ppp, \"\\n\")"
   ]
  },
  {
   "cell_type": "code",
   "execution_count": null,
   "id": "d5e951fa",
   "metadata": {},
   "outputs": [],
   "source": [
    "#Create geomean function\n",
    "def nangmean(arr, axis=None):\n",
    "    arr = np.asarray(arr)\n",
    "    inverse_valids = 1. / np.sum(~np.isnan(arr), axis=axis)  # could be a problem for all-nan-axis\n",
    "    rhs = inverse_valids * np.nansum(np.log(arr), axis=axis)\n",
    "    return np.exp(rhs)\n",
    "\n",
    "#Calculate Fisher bilateral PPPs \n",
    "fi = np.zeros(shape)\n",
    "nrow=len(fi)\n",
    "ncol=len(fi[0])\n",
    "\n",
    "for row in range(nrow):\n",
    "    for col in range(ncol):\n",
    "        fi[row][col]= nangmean([lp[row][col],pa[row][col]])\n",
    "\n",
    "fi_ppp=pd.DataFrame(data = fi, index = df_bh.columns, columns = df_bh.columns)\n",
    "fi_ppp = round(fi_ppp,3)"
   ]
  },
  {
   "cell_type": "code",
   "execution_count": null,
   "id": "9cff7ab0",
   "metadata": {},
   "outputs": [],
   "source": [
    "print(\"Fisher-type bilateral PPPs:\",\"\\n\")\n",
    "print(fi_ppp, \"\\n\")"
   ]
  },
  {
   "cell_type": "code",
   "execution_count": null,
   "id": "6d531295",
   "metadata": {},
   "outputs": [],
   "source": [
    "#Calculate GEKS multilateral ppps \n",
    "##requires the earlier nangmean function \n",
    "geks = np.zeros(shape)  # zero 'country x country' matrix\n",
    "nrow=len(geks)  # gets the number of rows\n",
    "ncol=len(geks[0])\n",
    "\n",
    "for row in range(nrow):\n",
    "    for col in range(ncol):\n",
    "        geks[row][col]= nangmean(fi[row]/fi[col])     \n",
    "\n",
    "geks_vec = np.zeros(shape=(1,len(df_bh.columns))) # as we need a vector of ppps, not a matrix\n",
    "j=len(geks_vec[0])\n",
    "for col in range(j):#..one PPP per country, or col of bhexp df\n",
    "    geks_vec[:,col]=nangmean(geks[col,0]/geks[0,0]) #geomean over each row, w/ each col rebased to country in col1    \n",
    "\n",
    "geks_ppp = np.array(geks_vec)"
   ]
  },
  {
   "cell_type": "code",
   "execution_count": null,
   "id": "202e5315",
   "metadata": {},
   "outputs": [],
   "source": [
    "geks_ppp = pd.DataFrame(geks_ppp)\n",
    "geks_ppp.columns = df_bh.columns\n",
    "geks_ppp = round(geks_ppp,3)\n",
    "\n",
    "print(\"\\n\",\"GEKS Multilateral PPPs:\",\"\\n\")\n",
    "print(geks_ppp.to_string(index=False), \"\\n\")"
   ]
  },
  {
   "cell_type": "code",
   "execution_count": null,
   "id": "2c9aa862",
   "metadata": {},
   "outputs": [],
   "source": [
    "\n"
   ]
  },
  {
   "cell_type": "markdown",
   "id": "37d73255",
   "metadata": {},
   "source": [
    "## Aggregation trhoguh CAR-method"
   ]
  },
  {
   "cell_type": "markdown",
   "id": "84cd2314",
   "metadata": {},
   "source": [
    "### Construct a data frame at the country level"
   ]
  },
  {
   "cell_type": "code",
   "execution_count": null,
   "id": "4ea3d515",
   "metadata": {},
   "outputs": [],
   "source": [
    "#reshaping the global GEKS data frame \n",
    "geks_ppp=geks_ppp.melt(var_name=\"country\", value_name=\"geks\")\n",
    "geks_ppp"
   ]
  },
  {
   "cell_type": "code",
   "execution_count": null,
   "id": "841330b7",
   "metadata": {},
   "outputs": [],
   "source": [
    "#Preparing a dataframe with aggregate regional PPPs and total expenditures \n",
    "\n",
    "volshare_df = ppp_reg[ppp_reg['bh'] == 'total']\n",
    "\n",
    "df_bhtotal=df_bh.sum().to_frame().T \n",
    "df_bhtotal=df_bhtotal.melt(var_name=\"country\", value_name=\"total_exp\")\n",
    "\n",
    "volshare_df=pd.merge(volshare_df, df_bhtotal, how='inner', on='country')\n",
    "volshare_df['exp_ppp']=volshare_df['total_exp']/volshare_df['ppp_reg']\n",
    "volshare_df['reg_total']= volshare_df['exp_ppp'].groupby(volshare_df['region']).transform('sum')\n",
    "volshare_df['volshare']=volshare_df['exp_ppp']/volshare_df['reg_total']\n",
    "volshare_df"
   ]
  },
  {
   "cell_type": "code",
   "execution_count": null,
   "id": "52aff108",
   "metadata": {},
   "outputs": [],
   "source": [
    "#Merging the expenditure and global geks dataframe\n",
    "car_df=pd.merge(volshare_df, geks_ppp, how='inner', on=('country'))\n",
    "#Converting the total exp using the global geks\n",
    "car_df['exp_gek']=car_df['total_exp']/car_df['geks']\n",
    "#Calculating the total regional expenditure in geks adjusted units\n",
    "car_df['exp_gek_reg']=car_df['exp_gek'].groupby(volshare_df['region']).transform('sum')\n",
    "#Applying the regional volume share to the total expenditure and re-basingit on the numeraire PPP\n",
    "car_df['exp_adj']=car_df['exp_gek_reg']*car_df['volshare']\n",
    "car_df['PPPglobal']=car_df['total_exp']/car_df['exp_adj']\n",
    "car_df['PPPglobal_num']=car_df['PPPglobal']/0.981471\n",
    "print(\"\\n\",\"Global linked PPPs:\",\"\\n\")\n",
    "print(car_df.PPPglobal_num, \"\\n\")"
   ]
  },
  {
   "cell_type": "code",
   "execution_count": null,
   "id": "134b09e9",
   "metadata": {},
   "outputs": [],
   "source": []
  }
 ],
 "metadata": {
  "kernelspec": {
   "display_name": "Python 3 (ipykernel)",
   "language": "python",
   "name": "python3"
  },
  "language_info": {
   "codemirror_mode": {
    "name": "ipython",
    "version": 3
   },
   "file_extension": ".py",
   "mimetype": "text/x-python",
   "name": "python",
   "nbconvert_exporter": "python",
   "pygments_lexer": "ipython3",
   "version": "3.9.13"
  }
 },
 "nbformat": 4,
 "nbformat_minor": 5
}
