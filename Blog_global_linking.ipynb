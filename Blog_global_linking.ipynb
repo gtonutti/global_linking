{
 "cells": [
  {
   "cell_type": "markdown",
   "id": "e31f953e",
   "metadata": {},
   "source": [
    "# Demystifying ICP Purchasing Power Parity calculations: the Global Linking procedure\n",
    "\n",
    "### Author: Giovanni Tonutti"
   ]
  },
  {
   "cell_type": "markdown",
   "id": "5101ef2b",
   "metadata": {},
   "source": [
    "---\n",
    "Contents\n",
    "- [Overview](#Overview) \n",
    "- [Load required Python libraries](#Libraries)  \n",
    "- [Load input data](#InputData) \n",
    "- [Global Linking factors](#BHPPP)  \n",
    "- [Above-basic heading PPPs](#aBHPPP)  \n",
    "- [Aggregation through CAR-method](#CAR)\n",
    "\n",
    "---"
   ]
  },
  {
   "cell_type": "markdown",
   "id": "9e567bd8",
   "metadata": {},
   "source": [
    "## Overview <a class=\"anchor\" id=\"Overview\"></a>\n",
    "This notebook provides the accompanying code for the World Bank blog \"Demystifying ICP Purchasing Power Parity calculations: the Global Linking procedure\". Its purpose is to lay out the calculation steps and showcase the implementation of the main formulas needed to estimate ICP purchasing power parities (PPPs) at the global level. The blog post is publicly available [here](https://blogs.worldbank.org/opendata/demystifying-icp-purchasing-power-parity-calculations-using-python). \n",
    "\n",
    "*Note*: Because the target audience may include users unfamiliar with Python or programming in general, we opted to show each calculation step as explicitly as possible, at the cost of having more modularized and computationally efficient code."
   ]
  },
  {
   "cell_type": "markdown",
   "id": "3aea6274",
   "metadata": {},
   "source": [
    "## Load required Python libraries <a class=\"anchor\" id=\"Libraries\"></a>\n",
    "The code will require loading the following well-known Python libaries: `pandas`, `numpy` and `statsmodels`"
   ]
  },
  {
   "cell_type": "code",
   "execution_count": null,
   "id": "bbedeb2b",
   "metadata": {},
   "outputs": [],
   "source": [
    "## Load libraries \n",
    "import pandas as pd\n",
    "import numpy as np \n",
    "import statsmodels.api as sm"
   ]
  },
  {
   "cell_type": "markdown",
   "id": "524941e3",
   "metadata": {},
   "source": [
    "## Load input data <a class=\"anchor\" id=\"InputData\"></a>\n",
    "\n",
    "We start by loading the input datasets containing mock average price data, regional basic headings PPPs and other relevant country-level information. "
   ]
  },
  {
   "cell_type": "code",
   "execution_count": null,
   "id": "35b6257a",
   "metadata": {},
   "outputs": [],
   "source": [
    "#Load price data\n",
    "data=\"price_data.csv\"\n",
    "prices=pd.read_csv(data) \n",
    "prices # Show full dataset "
   ]
  },
  {
   "cell_type": "code",
   "execution_count": null,
   "id": "09be18eb",
   "metadata": {},
   "outputs": [],
   "source": [
    "#Load ppp data\n",
    "datappp=\"ppp_reg.csv\"\n",
    "ppp_reg=pd.read_csv(datappp) \n",
    "ppp_reg # Show full dataset "
   ]
  },
  {
   "cell_type": "markdown",
   "id": "1119a947",
   "metadata": {},
   "source": [
    "This mock dataset contains 11 countries ('country'), each belonging to one of three different regions, and three basic headings ('bh'): garment; rice; and pork. ‘Basic headings’ in the ICP literature refer to detailed expenditure categories containing similar item varieties, for example the ‘Rice’ basic heading contains several rice varieties. It is also the lowest level of aggregation for which PPPs are first calculated. The different item varieties in each basic heading are noted under the ‘item’ column, for example, within ‘garment’ there are three item varieties, identified as ‘garment 1’, ‘garment 2’, and ‘garment 3’. Finally, an average price in the local currency unit of each country is reported for each item ('price') and information on the relative importance of each item in a country’s consumption at the basic heading level is included for each item priced in the importance column ('imp'). Following the guidelines provided by the [ICP Technical Advisory Group](https://www.worldbank.org/en/programs/icp#3), countries assign a weight of '3' to items identified as 'important' within a given basic heading and a weight of '1' to items deemed unimportant.\n",
    "\n",
    "It should be highlighted that in practice the full [ICP classification](http://pubdocs.worldbank.org/en/708531575560035925/pdf/ICP-Classification-description-2019-1205.pdf) consists of 155 basic headings with the number of items within each varying from one basic heading to another. Also, not all countries are able to report prices for all items. These two realities are reflected in the example: some basic headings contain more items than others, and prices for some items are missing in some countries.\n"
   ]
  },
  {
   "cell_type": "markdown",
   "id": "2eac1b6a",
   "metadata": {},
   "source": [
    "## Global linking factors <a class=\"anchor\" id=\"BHPPP\"></a>\n",
    "\n",
    "Regions represent the first building block in the process of cross-country comparisons within the ICP framework. The Regional Implementing Agencies are responsible for the collection of price data and national accounts expenditures from countries and provide regional PPPs estimates. Each region designates one country within their region as numeraire and regional PPPs are calculated in relation to this regional numeraire.\n",
    "\n",
    "\n",
    "Regional PPPs are then linked to the global numeraire via so-called ‘linking factors’. These are scalars estimated for each region via a regression method known as the ‘weighted region product dummy’ (RPD-W).\n",
    "The RPD-W method is carried out within each basic heading by regressing the logarithm of the observed country item prices, converted into a common regional numéraire using the country's regional BH basic heading PPPs, on item dummies (one for each item) and region dummies (one for each region other than the region of the global numeraire). The RPD-W method also incorporates the country reported item-level importance indicators with the idea of ‘down-weighting’ less representative unrepresentative items during the calculation."
   ]
  },
  {
   "cell_type": "markdown",
   "id": "13cc971e",
   "metadata": {},
   "source": [
    "###  Select the base or numeraire currency \n",
    "\n",
    "The first step is to identify a global numeraire country. In our example, Country 11 acts as the global numeraire and region C as the reference region."
   ]
  },
  {
   "cell_type": "code",
   "execution_count": null,
   "id": "b15c95c9",
   "metadata": {},
   "outputs": [],
   "source": [
    "## Select the base or numeraire currency\n",
    "numeraire = 'C' \n",
    "numeraire_c = 'country11' "
   ]
  },
  {
   "cell_type": "markdown",
   "id": "3bc13d41",
   "metadata": {},
   "source": [
    "###  Prep the inputs to run the RPD-W"
   ]
  },
  {
   "cell_type": "code",
   "execution_count": null,
   "id": "0a54900d",
   "metadata": {
    "scrolled": true
   },
   "outputs": [],
   "source": [
    "## Prep\n",
    "## Drop country-item observations without a price\n",
    "prices = prices[prices['price'].notnull()]\n",
    "\n",
    "## Dataframe with country prices\n",
    "d_region=pd.get_dummies(prices['region'])\n",
    "\n",
    "## Prepare design matrix for CPD-W\n",
    "d_region=pd.get_dummies(prices['region'])\n",
    "d_region.drop(numeraire, axis=1, inplace=True) #drop numeraire\n",
    "d_region = d_region.add_prefix('r_') #add prefix to countries\n",
    "d_item=pd.get_dummies(prices['item'],drop_first=False) #include all item dummies\n",
    "d_item = d_item.add_prefix('i_') #add prefix to items\n",
    "prices=pd.concat([prices,d_region,d_item],axis=1) # Concatenate the new cols\n",
    "\n",
    "## Create empty arrays to store results\n",
    "l_coef= [] # to store exp(beta_hats)\n",
    "l_bh= [] # to store bh labels\n",
    "\n",
    "prices"
   ]
  },
  {
   "cell_type": "markdown",
   "id": "5206d7ac",
   "metadata": {},
   "source": [
    "###  Run the RPD-W on each basic heading and store results"
   ]
  },
  {
   "cell_type": "code",
   "execution_count": null,
   "id": "eca1310a",
   "metadata": {},
   "outputs": [],
   "source": [
    "for bh in prices.bh.unique():\n",
    "    tempdf=prices[prices.bh == bh] \n",
    "    X=tempdf.loc[:, [x for x in tempdf.columns if x.startswith(('r_', 'i_'))]]\n",
    "    y = np.log(tempdf['price']/tempdf['ppp_reg']) \n",
    "    wts=tempdf['imp']\n",
    "\n",
    "    wts_cpd=sm.WLS(y, X,weights=wts)\n",
    "    res=wts_cpd.fit()\n",
    "    res_eparams=np.exp(res.params)\n",
    "    \n",
    "    print(\"\\n\",\"Basic Heading:\", bh, \"\\n\")\n",
    "    print('Exponentiated Parameters:',\"\\n\",\n",
    "          res_eparams)\n",
    "    \n",
    "    l_coef.append(res_eparams)\n",
    "    l_bh.append(bh)\n",
    "\n",
    "coef = np.array(l_coef, dtype=float)\n",
    "cols = list(X)\n",
    " #store column heads of X as a list\n",
    "coef[coef == 1] = np.nan #%% replace PPPs that were exp(0)=1 with 'np.nan'\n",
    "\n",
    "#ppp=np.array(ppp_reg.ppp_reg, dtype=float)"
   ]
  },
  {
   "cell_type": "markdown",
   "id": "79b08c1f",
   "metadata": {},
   "source": [
    "The results above show the estimated coefficients from the RPD-W method for each of the three basic headings. Of particular interest are the estimated coefficients on the region dummies (denoted by the prefix 'r_') as they are the natural log of the estimated regions linking factors for the regional basic heading PPPs in question. Note that the estimated coefficients have already been exponentiated."
   ]
  },
  {
   "cell_type": "markdown",
   "id": "5fb6095f",
   "metadata": {},
   "source": [
    "###  Gather and display the estimated LFs "
   ]
  },
  {
   "cell_type": "code",
   "execution_count": null,
   "id": "f3130d15",
   "metadata": {},
   "outputs": [],
   "source": [
    "#Create dataframe of PPP results from numpy arrays\n",
    "#dimension = \"# BHs\" x \"# coef\"\n",
    "df_bhppp=pd.DataFrame(data = coef, index = l_bh, columns = cols)\n",
    "r_numeraire=f\"r_{numeraire}\"\n",
    "df_bhppp.insert(0, r_numeraire, 1.000) #insert column of 1s for numeraire\n",
    "\n",
    "df_bhppp=df_bhppp.loc[:, [x for x in df_bhppp.columns if x.startswith(('r_'))]] #subsetting to store only country level PPPs\n",
    "df_bhppp.columns = df_bhppp.columns.str.replace('^r_', '') \n",
    "\n",
    "df_bhppp['bh'] = df_bhppp.index\n",
    "\n",
    "df_bhppp=df_bhppp.melt(id_vars=\"bh\",var_name=\"region\", value_name=\"lf\")\n",
    "df_bhppp\n",
    "\n"
   ]
  },
  {
   "cell_type": "markdown",
   "id": "ea206f03",
   "metadata": {},
   "source": [
    "## Above-basic heading PPPs <a class=\"anchor\" id=\"aBHPPP\"></a>\n",
    "\n",
    "Next, regional PPPs are linked across regions through the estimated linking factirs at the basic heading level and successively aggregated using national accounts expenditure converted in regional PPPs for each country as weights.\n",
    "\n",
    "The aggregation method involves constructing bilateral PPPs for each pair of countries, using basic heading-level national accounts expenditure values as weights from each country in turn. First, a Laspeyres-type bilateral PPP is calculated between each pair of countries and then a Paasche-type bilateral PPP. The geometric mean of the Laspeyres- and Paasche-type bilateral PPPs gives us the Fisher-type bilateral PPP between each pair of countries in the dataset. "
   ]
  },
  {
   "cell_type": "markdown",
   "id": "3d3b6060",
   "metadata": {},
   "source": [
    "### Linking regional basic heading PPPs across regions"
   ]
  },
  {
   "cell_type": "code",
   "execution_count": null,
   "id": "abc893b1",
   "metadata": {},
   "outputs": [],
   "source": [
    "#Merging the PPPreg data with the estimated Linking Factors from the RPD-W procedure\n",
    "ppp_regLF=pd.merge(ppp_reg, df_bhppp, how='inner', on=('bh', 'region'))\n",
    "ppp_regLF['ppp_linked']=ppp_regLF['ppp_reg']*ppp_regLF['lf']\n",
    "ppp_regLF = ppp_regLF.drop(['ppp_reg'], axis=1)\n",
    "ppp_regLF=ppp_regLF.pivot(index=\"bh\",\n",
    "             columns=\"country\",\n",
    "              values=\"ppp_linked\").reset_index()\n",
    "\n",
    "\n",
    "ppp_regLF.set_index(ppp_regLF['bh'], drop=True, append=False, inplace=True)\n",
    "ppp_regLF = ppp_regLF.drop(['bh'], axis=1)\n",
    "#Column sorting function\n",
    "def sorting(first_col, df):\n",
    "    columns = df.columns.tolist()\n",
    "    columns.remove(first_col)\n",
    "    columns.insert(0,first_col)\n",
    "    return df.reindex(columns, axis=1)\n",
    "\n",
    "#Sort cols with numeraire as col1\n",
    "ppp_regLF=sorting(numeraire_c,ppp_regLF)\n",
    "ppp_regLF"
   ]
  },
  {
   "cell_type": "markdown",
   "id": "baf9d204",
   "metadata": {},
   "source": [
    "###  Load and display basic heading expenditure values\n",
    "As a second step in the aggregation process, we load the basic heading level national accounts expenditure values in local currency unit for each country."
   ]
  },
  {
   "cell_type": "code",
   "execution_count": null,
   "id": "cd69180e",
   "metadata": {},
   "outputs": [],
   "source": [
    "#Load basic heading expenditure values\n",
    "#Should contain bh and countries with prefix c\n",
    "code=\"bhdata_exp.csv\"\n",
    "df_bh=pd.read_csv(code,index_col=\"icp_bh\")\n",
    "df_bh"
   ]
  },
  {
   "cell_type": "code",
   "execution_count": null,
   "id": "ee414b40",
   "metadata": {},
   "outputs": [],
   "source": [
    "#sort rows alphabetically \n",
    "df_bh=df_bh.sort_values('icp_bh')\n",
    "\n",
    "print(\"\\n\",\"Basic Heading Expenditure Values in Local Currency Units\",\"\\n\")\n",
    "print(df_bh, \"\\n\")"
   ]
  },
  {
   "cell_type": "markdown",
   "id": "7e28d590",
   "metadata": {},
   "source": [
    "###  Check the basic heading PPP and basic heading expenditure matrices\n",
    "Before proceeding, it is important to check that both the basic heading PPP and basic heading expenditure matrices have the same dimensions. It is also important to check that the matrix of basic heading PPPs is complete. If the dimensions of the two matrices do not match or the basic heading PPP matrix is incomplete then aggregation at higher aggregate levels is not possible using the formulas employed by the ICP. "
   ]
  },
  {
   "cell_type": "code",
   "execution_count": null,
   "id": "02e360ec",
   "metadata": {},
   "outputs": [],
   "source": [
    "df_bh.columns = df_bh.columns.str.replace('^c_', '') \n",
    "\n",
    "print(\"Dimensions of Matrices (No. of headings x No. of countries):\",\"\\n\")\n",
    "print(\"BH Purchasing Power Parities (PPPs)  = \",ppp_regLF.shape)\n",
    "print(\"BH Nominal Expenditures in LCUs      = \", df_bh.shape)"
   ]
  },
  {
   "cell_type": "markdown",
   "id": "51daa48c",
   "metadata": {},
   "source": [
    "###  Calculate bilateral PPPs (Laspeyres-, Paasche-, and Fisher-type)"
   ]
  },
  {
   "cell_type": "markdown",
   "id": "ed0bb98e",
   "metadata": {},
   "source": [
    "Calculate the Laspeyres-type bilateral PPPs"
   ]
  },
  {
   "cell_type": "code",
   "execution_count": null,
   "id": "70909bf0",
   "metadata": {},
   "outputs": [],
   "source": [
    "#Calculate Laspeyres bilateral PPPs \n",
    "shape = (len(df_bh.columns),len(df_bh.columns))\n",
    "lp = np.zeros(shape) #square matrix: country x country\n",
    "nrow= len(lp)  # gets the number of rows\n",
    "ncol = len(lp[0]) #get the number of cols\n",
    "\n",
    "for row in range(nrow):\n",
    "    for col in range(ncol):\n",
    "        #weighted means by looping over df rows\n",
    "        lp[row][col]= np.average((ppp_regLF.iloc[:,row]/ppp_regLF.iloc[:,col]),weights=df_bh.iloc[:,col])\n",
    "\n",
    "lp_ppp = lp\n",
    "lp_ppp=pd.DataFrame(data = lp_ppp, index = df_bh.columns, columns = df_bh.columns)"
   ]
  },
  {
   "cell_type": "markdown",
   "id": "5ed6332b",
   "metadata": {},
   "source": [
    "Square ('country x country') matrix of Laspeyres-type (bilateral) PPPs"
   ]
  },
  {
   "cell_type": "code",
   "execution_count": null,
   "id": "724f3eec",
   "metadata": {},
   "outputs": [],
   "source": [
    "print(\"\\n\", \"Laspeyres-type bilateral PPPs:\",\"\\n\")\n",
    "print(lp_ppp, \"\\n\")"
   ]
  },
  {
   "cell_type": "markdown",
   "id": "d74578f3",
   "metadata": {},
   "source": [
    "Derive the Paasche-type bilateral PPPs by taking the reciprocal of the transpose of the Laspeyres-type bilateral PPP "
   ]
  },
  {
   "cell_type": "code",
   "execution_count": null,
   "id": "b9123a13",
   "metadata": {},
   "outputs": [],
   "source": [
    "#Calculate Paasche bilateral PPPs \n",
    "pa = np.transpose(np.reciprocal(lp))\n",
    "pa_ppp=pd.DataFrame(data = pa, index = df_bh.columns, columns = df_bh.columns)"
   ]
  },
  {
   "cell_type": "markdown",
   "id": "4454df56",
   "metadata": {},
   "source": [
    "Square ('country x country') matrix of Paasche-type (bilateral) PPPs"
   ]
  },
  {
   "cell_type": "code",
   "execution_count": null,
   "id": "35be24da",
   "metadata": {},
   "outputs": [],
   "source": [
    "print(\"\\n\", \"Paasche-type bilateral PPPs:\",\"\\n\")\n",
    "print(pa_ppp, \"\\n\")"
   ]
  },
  {
   "cell_type": "markdown",
   "id": "3e6623f7",
   "metadata": {},
   "source": [
    "Derive the Fisher-type bilateral PPPs by taking the geometric mean of the Laspeyres-type \n",
    "and Paasche-type bilateral PPPs for the aggregate"
   ]
  },
  {
   "cell_type": "code",
   "execution_count": null,
   "id": "d5e951fa",
   "metadata": {},
   "outputs": [],
   "source": [
    "#Create geomean function\n",
    "def nangmean(arr, axis=None):\n",
    "    arr = np.asarray(arr)\n",
    "    inverse_valids = 1. / np.sum(~np.isnan(arr), axis=axis)  # could be a problem for all-nan-axis\n",
    "    rhs = inverse_valids * np.nansum(np.log(arr), axis=axis)\n",
    "    return np.exp(rhs)\n",
    "\n",
    "#Calculate Fisher bilateral PPPs \n",
    "fi = np.zeros(shape)\n",
    "nrow=len(fi)\n",
    "ncol=len(fi[0])\n",
    "\n",
    "for row in range(nrow):\n",
    "    for col in range(ncol):\n",
    "        fi[row][col]= nangmean([lp[row][col],pa[row][col]])\n",
    "\n",
    "fi_ppp=pd.DataFrame(data = fi, index = df_bh.columns, columns = df_bh.columns)"
   ]
  },
  {
   "cell_type": "markdown",
   "id": "0e629f82",
   "metadata": {},
   "source": [
    "Square ('country x country') matrix of Paasche-type (bilateral) PPPs"
   ]
  },
  {
   "cell_type": "code",
   "execution_count": null,
   "id": "9cff7ab0",
   "metadata": {},
   "outputs": [],
   "source": [
    "print(\"Fisher-type bilateral PPPs:\",\"\\n\")\n",
    "print(fi_ppp, \"\\n\")"
   ]
  },
  {
   "cell_type": "markdown",
   "id": "b27d3e59",
   "metadata": {},
   "source": [
    "###  Calculate GEKS PPPs\n",
    "\n",
    "As a next step, the Gini-Éltető-Köves-Szulc (GEKS) method is applied to the matrix of Fisher-type bilateral PPPs. GEKS PPPs are calculated between each country relative to the numeraire or base country. To this end, the first step is to divide each country row of the Fisher-type bilateral PPP matrix by the row of the numeraire country. Each row will then contain two direct PPPs (each country to itself and directly to the numeraire country) and n−2 indirect PPPs (each country to the numeraire country via each of the other third countries), where n equals the total number of countries in the dataset. Finally, the GEKS PPP for each country relative to the numeraire is given by the geometric mean of the direct and indirect PPPs in each respective country row. \n",
    "\n",
    "GEKS PPPs are considered 'multilateral' because the GEKS procedure uses both direct and indirect PPPs and thus takes into account the relative prices between all the countries as a group. The GEKS method is needed to make the Fisher-type bilateral PPPs transitive and base country-invariant. Transitivity means that the PPP between any two countries should be the same whether it is computed directly or indirectly through a third country. Base country-invariant means that the PPPs between any two countries should be the same regardless of the choice of base or numeraire country."
   ]
  },
  {
   "cell_type": "code",
   "execution_count": null,
   "id": "6d531295",
   "metadata": {},
   "outputs": [],
   "source": [
    "#Calculate GEKS multilateral ppps \n",
    "##requires the earlier nangmean function \n",
    "geks = np.zeros(shape)  # zero 'country x country' matrix\n",
    "nrow=len(geks)  # gets the number of rows\n",
    "ncol=len(geks[0])\n",
    "\n",
    "for row in range(nrow):\n",
    "    for col in range(ncol):\n",
    "        geks[row][col]= nangmean(fi[row]/fi[col])     \n",
    "\n",
    "geks_vec = np.zeros(shape=(1,len(df_bh.columns))) # as we need a vector of ppps, not a matrix\n",
    "j=len(geks_vec[0])\n",
    "for col in range(j):#..one PPP per country, or col of bhexp df\n",
    "    geks_vec[:,col]=nangmean(geks[col,0]/geks[0,0]) #geomean over each row, w/ each col rebased to country in col1    \n",
    "\n",
    "geks_ppp = np.array(geks_vec)"
   ]
  },
  {
   "cell_type": "code",
   "execution_count": null,
   "id": "202e5315",
   "metadata": {},
   "outputs": [],
   "source": [
    "geks_ppp = pd.DataFrame(geks_ppp)\n",
    "geks_ppp.columns = df_bh.columns\n",
    "\n",
    "print(\"\\n\",\"GEKS Multilateral PPPs:\",\"\\n\")\n",
    "print(geks_ppp.to_string(index=False), \"\\n\")"
   ]
  },
  {
   "cell_type": "markdown",
   "id": "37d73255",
   "metadata": {},
   "source": [
    "## Aggregation throguh CAR-method <a class=\"anchor\" id=\"CAR\"></a>\n",
    "\n",
    "The final step in the process of global PPPs estimation consists in the Country Aggregation with Redistribution (CAR) procedure. This step is undertaken to guarantee the principle of fixity. Fixity implies that the relative volumes in the global comparisons between any pair of countries belonging to a given region should be identical to the relative volumes of the two countries established in the regional comparisons to which they belong. \n",
    "\n",
    "In order to adhere to this principle, regional volume totals in the global comparison are obtained by summing the GEKS-adjusted volumes for individual countries in each region. These volume totals are then divided using the countries’ shares in regional comparison. Finally, PPPs in world numéraire for each country are derived indirectly by dividing countries' nominal expenditures by the volume-share adjusted expenditures. "
   ]
  },
  {
   "cell_type": "code",
   "execution_count": null,
   "id": "4ea3d515",
   "metadata": {},
   "outputs": [],
   "source": [
    "#reshaping the global GEKS data frame \n",
    "geks_ppp=geks_ppp.melt(var_name=\"country\", value_name=\"geks\")\n",
    "geks_ppp"
   ]
  },
  {
   "cell_type": "code",
   "execution_count": null,
   "id": "841330b7",
   "metadata": {},
   "outputs": [],
   "source": [
    "#Preparing a dataframe with aggregate regional PPPs and total expenditures \n",
    "\n",
    "volshare_df = ppp_reg[ppp_reg['bh'] == 'total']\n",
    "\n",
    "df_bhtotal=df_bh.sum().to_frame().T \n",
    "df_bhtotal=df_bhtotal.melt(var_name=\"country\", value_name=\"total_exp\")\n",
    "\n",
    "volshare_df=pd.merge(volshare_df, df_bhtotal, how='inner', on='country')\n",
    "volshare_df['exp_ppp']=volshare_df['total_exp']/volshare_df['ppp_reg']\n",
    "volshare_df['reg_total']= volshare_df['exp_ppp'].groupby(volshare_df['region']).transform('sum')\n",
    "volshare_df['volshare']=volshare_df['exp_ppp']/volshare_df['reg_total']\n",
    "volshare_df"
   ]
  },
  {
   "cell_type": "code",
   "execution_count": null,
   "id": "52aff108",
   "metadata": {
    "scrolled": true
   },
   "outputs": [],
   "source": [
    "#Merging the expenditure and global geks dataframe\n",
    "car_df=pd.merge(volshare_df, geks_ppp, how='inner', on=('country'))\n",
    "#Converting the total exp using the global geks\n",
    "car_df['exp_gek']=car_df['total_exp']/car_df['geks']\n",
    "#Calculating the total regional expenditure in geks adjusted units\n",
    "car_df['exp_gek_reg']=car_df['exp_gek'].groupby(volshare_df['region']).transform('sum')\n",
    "#Applying the regional volume share to the total expenditure and re-basingit on the numeraire PPP\n",
    "car_df['exp_adj']=car_df['exp_gek_reg']*car_df['volshare']\n",
    "car_df['PPPglobal']=car_df['total_exp']/car_df['exp_adj']\n",
    "car_df.set_index(car_df['country'], drop=True, append=False, inplace=True)\n",
    "car_df\n",
    "car_df['PPPglobal_num']=car_df['PPPglobal']/car_df.at['country11','PPPglobal']\n",
    "\n",
    "print(\"\\n\",\"Global linked PPPs:\",\"\\n\")\n",
    "print(car_df.PPPglobal_num, \"\\n\")"
   ]
  },
  {
   "cell_type": "markdown",
   "id": "1397b641",
   "metadata": {},
   "source": [
    "In the above example we showcased the main steps to calculate PPPs.  Information about the overall ICP methodology is provided on the [ICP website](https://www.worldbank.org/en/programs/icp/brief/methodology-calculation). "
   ]
  }
 ],
 "metadata": {
  "kernelspec": {
   "display_name": "Python 3 (ipykernel)",
   "language": "python",
   "name": "python3"
  },
  "language_info": {
   "codemirror_mode": {
    "name": "ipython",
    "version": 3
   },
   "file_extension": ".py",
   "mimetype": "text/x-python",
   "name": "python",
   "nbconvert_exporter": "python",
   "pygments_lexer": "ipython3",
   "version": "3.9.13"
  }
 },
 "nbformat": 4,
 "nbformat_minor": 5
}
